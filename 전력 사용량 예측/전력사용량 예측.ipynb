{
 "cells": [
  {
   "cell_type": "code",
   "execution_count": 2,
   "metadata": {},
   "outputs": [],
   "source": [
    "from datascience import *\n",
    "import numpy as np\n",
    "import pandas as pd\n",
    "%matplotlib inline\n",
    "import matplotlib.pyplot as plt\n",
    "from tqdm import tqdm_notebook"
   ]
  },
  {
   "cell_type": "code",
   "execution_count": 3,
   "metadata": {},
   "outputs": [],
   "source": [
    "# data 불러오기\n",
    "tb_data = Table.read_table('20141078_data.csv')\n",
    "\n",
    "# target data인 6월 30일 데이터를 제외함\n",
    "data    = pd.read_csv('20141078_data.csv').iloc[0:2880, :]"
   ]
  },
  {
   "cell_type": "code",
   "execution_count": 4,
   "metadata": {},
   "outputs": [],
   "source": [
    "# 예측하고자 하는 데이터 분리\n",
    "target_row     = np.array(list(range(24, 0, -1))) * (-1)\n",
    "\n",
    "# 예측 대상의 값을 구함\n",
    "target         = pd.read_csv('20141078_data.csv').iloc[target_row, :]\n",
    "target         = target.transpose()\n",
    "target.columns = list(target.iloc[0,:])\n",
    "target         = target.drop('Time', axis = 0)\n",
    "target_mean    = target.mean()"
   ]
  },
  {
   "cell_type": "code",
   "execution_count": 6,
   "metadata": {
    "scrolled": true
   },
   "outputs": [
    {
     "name": "stdout",
     "output_type": "stream",
     "text": [
      "[0.771] [0.2309]\n"
     ]
    },
    {
     "data": {
      "image/png": "[encoded data removed]",
      "text/plain": [
       "<Figure size 360x360 with 1 Axes>"
      ]
     },
     "metadata": {
      "needs_background": "light"
     },
     "output_type": "display_data"
    }
   ],
   "source": [
    "# na 비율을 구한다\n",
    "na_per = []\n",
    "for i in range(0, len(data)):\n",
    "    na     = round(data.iloc[i,:].isnull().sum() / len(data.columns),4)\n",
    "    na_per = np.append(na_per , na)\n",
    "\n",
    "\n",
    "tb_na    = Table().with_columns('index', range(0,len(data)),\n",
    "                                'Time', data['Time'],\n",
    "                                'na_per', na_per)\n",
    "\n",
    "tb_na.scatter('index', 'na_per')\n",
    "\n",
    "# 2880개중 148개만이 na비율이 높음\n",
    "a = tb_na.sort('na_per', descending = True).take(148)['na_per']\n",
    "b = tb_na.sort('na_per', descending = True).take(149)['na_per']\n",
    "\n",
    "# 148개가 77%넘는 비율로 결측치를 가지고 있다. 149번째 부터는 23% 미만의 결측치\n",
    "print(a, b)"
   ]
  },
  {
   "cell_type": "markdown",
   "metadata": {},
   "source": [
    "# Step1 .\n",
    "### 각 column들의 평균과 분산을 통해 주택 데이터만 분리"
   ]
  },
  {
   "cell_type": "code",
   "execution_count": 7,
   "metadata": {},
   "outputs": [
    {
     "data": {
      "text/plain": [
       "<matplotlib.collections.PathCollection at 0x1fada019438>"
      ]
     },
     "execution_count": 7,
     "metadata": {},
     "output_type": "execute_result"
    },
    {
     "data": {
      "image/png": "[encoded data removed]",
      "text/plain": [
       "<Figure size 432x288 with 1 Axes>"
      ]
     },
     "metadata": {
      "needs_background": "light"
     },
     "output_type": "display_data"
    }
   ],
   "source": [
    "col_mean = []\n",
    "col_var  = []\n",
    "\n",
    "for i in range(1,len(tb_data.columns)):\n",
    "    # 가구별 전력 사용량의 평균\n",
    "    col_mean = col_mean + [np.nanmean(tb_data[i])]\n",
    "    \n",
    "    # 가구별 전력 사용량의 분산\n",
    "    col_var  = col_var + [np.nanvar(tb_data[i])]\n",
    "\n",
    "\n",
    "    \n",
    "# 전력 사용량을 볼 수 있도록 table 생성\n",
    "table = Table().with_columns('col_name', list(tb_data)[1:],\n",
    "                             'col_mean', col_mean,\n",
    "                             'col_var', col_var)\n",
    "\n",
    "# 평균과 분산의 분포 확인\n",
    "plt.scatter(table.column('col_mean'), table.column('col_var'), s = 10)"
   ]
  },
  {
   "cell_type": "code",
   "execution_count": 13,
   "metadata": {},
   "outputs": [
    {
     "data": {
      "text/plain": [
       "<matplotlib.collections.PathCollection at 0x1fada37f978>"
      ]
     },
     "execution_count": 13,
     "metadata": {},
     "output_type": "execute_result"
    },
    {
     "data": {
      "image/png": "[encoded data removed]",
      "text/plain": [
       "<Figure size 432x288 with 1 Axes>"
      ]
     },
     "metadata": {
      "needs_background": "light"
     },
     "output_type": "display_data"
    }
   ],
   "source": [
    "# 우리나라 주택 평균 사용량을 넘지 않는 건물 선정\n",
    "table = table.sort('col_mean', descending = True)\n",
    "table = table.where('col_mean', are.below(1.2))\n",
    "\n",
    "# 우리나라 주택 평균 사용량의 분산이 넘지 않는 건물 선정\n",
    "table = table.sort('col_var', descending = True)\n",
    "table = table.where('col_var', are.below(0.8))\n",
    "\n",
    "# 확인\n",
    "plt.scatter(table.column('col_mean'), table.column('col_var'), s = 10)"
   ]
  },
  {
   "cell_type": "markdown",
   "metadata": {},
   "source": [
    "# Step2 .\n",
    "### 필요한 데이터 전치 후 저장"
   ]
  },
  {
   "cell_type": "code",
   "execution_count": 14,
   "metadata": {},
   "outputs": [],
   "source": [
    "# 목표 col_name만 있는 데이터를 전치\n",
    "data = data[list(table['col_name'])]\n",
    "\n",
    "# data 변환\n",
    "data            = data.transpose()\n",
    "\n",
    "# data column 지정\n",
    "data.columns    = list(tb_data['Time'][0:2880])\n",
    "\n",
    "data\n",
    "# 0행의 Time을 제거하고 transpose_data로 저장\n",
    "data.to_csv('20141078_data2.csv')"
   ]
  },
  {
   "cell_type": "markdown",
   "metadata": {},
   "source": [
    "# Step3 .\n",
    "### 가정(주택의 동일한 시간대의 전력 사용량은 정규분포를 따를 것이다.)\n",
    "#####  (동작하는데 오래걸려 데이터를 저장함)"
   ]
  },
  {
   "cell_type": "code",
   "execution_count": 15,
   "metadata": {},
   "outputs": [],
   "source": [
    "# data 불러오기\n",
    "data      = Table.read_table('20141078_data2.csv')\n",
    "data_na   = data"
   ]
  },
  {
   "cell_type": "code",
   "execution_count": 16,
   "metadata": {},
   "outputs": [
    {
     "data": {
      "application/vnd.jupyter.widget-view+json": {
       "model_id": "def92803a418496e937d75c5cca7eb18",
       "version_major": 2,
       "version_minor": 0
      },
      "text/plain": [
       "HBox(children=(IntProgress(value=0, max=2880), HTML(value='')))"
      ]
     },
     "metadata": {},
     "output_type": "display_data"
    },
    {
     "name": "stdout",
     "output_type": "stream",
     "text": [
      "\n"
     ]
    }
   ],
   "source": [
    "data_mean = []\n",
    "data_std  = []\n",
    "data_time = []\n",
    "\n",
    "\n",
    "total = tqdm_notebook(range(1, len(data)))\n",
    "\n",
    "for i in total:\n",
    "    # nan제외한 특정 시간대의 전력사용량 평균\n",
    "    data_mean = data_mean + [np.nanmean(data.column(i))]\n",
    "    \n",
    "    # nan제외한 특정 시간대의 전력사용량 표준편차\n",
    "    data_std  = data_std + [np.nanstd(data.column(i))]\n",
    "    \n",
    "    # 특정 시간\n",
    "    data_time = np.array(list(data)[1:])\n",
    "    \n",
    "# array로 이용하기 위해 변환\n",
    "data_mean = np.array(data_mean)"
   ]
  },
  {
   "cell_type": "code",
   "execution_count": 17,
   "metadata": {},
   "outputs": [],
   "source": [
    "# 이때 bootsraping 사용하여 평균을 검증한다.\n",
    "def bootstrap_mean(original_sample, label, replications):\n",
    "    just_one_column = original_sample.select(label)\n",
    "    means           = make_array()\n",
    "    \n",
    "    for i in np.arange(replications):\n",
    "        bootstrap_sample = just_one_column.sample()\n",
    "        resampled_mean   = np.nanmean(bootstrap_sample.column(0))\n",
    "        means            = np.append(means, resampled_mean)\n",
    "        \n",
    "    return means"
   ]
  },
  {
   "cell_type": "code",
   "execution_count": 18,
   "metadata": {},
   "outputs": [
    {
     "data": {
      "application/vnd.jupyter.widget-view+json": {
       "model_id": "87f0de9a9e1e49a08a058c5fd17e476d",
       "version_major": 2,
       "version_minor": 0
      },
      "text/plain": [
       "HBox(children=(IntProgress(value=0, max=2880), HTML(value='')))"
      ]
     },
     "metadata": {},
     "output_type": "display_data"
    },
    {
     "name": "stderr",
     "output_type": "stream",
     "text": [
      "C:\\Users\\ybahn\\Anaconda3\\lib\\site-packages\\ipykernel_launcher.py:8: RuntimeWarning: Mean of empty slice\n",
      "  \n"
     ]
    },
    {
     "name": "stdout",
     "output_type": "stream",
     "text": [
      "\n"
     ]
    }
   ],
   "source": [
    "total    = tqdm_notebook(range(1, len(data)))\n",
    "temp     = []\n",
    "\n",
    "\n",
    "for i in total:\n",
    "    # bootstrap을 이용하여 평균을 확인\n",
    "    bstrap_medians = bootstrap_mean(data, tb_data['Time'][i - 1], 1000)\n",
    "    \n",
    "    # 95% 신뢰구간 생성\n",
    "    left           = percentile(2.5, bstrap_medians)\n",
    "    right          = percentile(97.5, bstrap_medians)\n",
    "    \n",
    "    # 95% 신뢰구간에 들어가지 않는 column의 번호를 저장\n",
    "    if data_mean[i-1] < left or data_mean[i-1] > right :\n",
    "        temp = np.append(temp, i)\n",
    "        \n",
    "# 95% 신뢰구간에 들어가지 않는 column들의 평균을 bootstrap을 통해 찾은 median으로 대체\n",
    "for i in temp:\n",
    "    bstrap_medians    = bootstrap_mean(data, tb_data['Time'][int(i)], 1000)\n",
    "    data_mean[int(i)] = percentile(50, bstrap_medians)"
   ]
  },
  {
   "cell_type": "code",
   "execution_count": 19,
   "metadata": {},
   "outputs": [
    {
     "data": {
      "application/vnd.jupyter.widget-view+json": {
       "model_id": "34ea122b900e4a8a98af517c0bba9639",
       "version_major": 2,
       "version_minor": 0
      },
      "text/plain": [
       "HBox(children=(IntProgress(value=0, max=2880), HTML(value='')))"
      ]
     },
     "metadata": {},
     "output_type": "display_data"
    },
    {
     "name": "stdout",
     "output_type": "stream",
     "text": [
      "\n"
     ]
    }
   ],
   "source": [
    "total = tqdm_notebook(range(1, len(data)))\n",
    "\n",
    "\n",
    "# 각 column들에 대해\n",
    "for i in total:\n",
    "    k     = 0\n",
    "    # num에 해당 column의 결측치의 수를 합산\n",
    "    num     = pd.isnull(data.column(i)).sum()\n",
    "    \n",
    "    # 결측치의 수만큼 정규분포를 만듬\n",
    "    na_list = np.round(np.random.normal(data_mean[i - 1], data_std[i - 1], num), 2) \n",
    "    \n",
    "    # 행을 한줄씩 확인\n",
    "    for j in range(0, len(data.column(1))) :\n",
    "        # 만약 j행이 결측치라면 \n",
    "        if pd.isnull(data.column(i)[j]) == True :\n",
    "            # 해당 위치에 정규분포의 값 하나를 넣음\n",
    "            data.column(i)[j] = na_list[k]\n",
    "            k = k + 1\n",
    "\n",
    "# 데이터를 저장\n",
    "data.to_csv('20141078_data3.csv')"
   ]
  },
  {
   "cell_type": "markdown",
   "metadata": {},
   "source": [
    "# Step4 .\n",
    "### 평균을 그려보며 데이터의 형태를 확인"
   ]
  },
  {
   "cell_type": "code",
   "execution_count": 20,
   "metadata": {},
   "outputs": [],
   "source": [
    "data  = Table.read_table('20141078_data3.csv')"
   ]
  },
  {
   "cell_type": "code",
   "execution_count": 21,
   "metadata": {},
   "outputs": [],
   "source": [
    "time_mean  = Table().with_columns('index', range(0,len(data_mean)),\n",
    "                                  'Time', list(data)[1:],\n",
    "                                  'Mean', data_mean)"
   ]
  },
  {
   "cell_type": "code",
   "execution_count": 22,
   "metadata": {},
   "outputs": [
    {
     "data": {
      "image/png": "[encoded data removed]",
      "text/plain": [
       "<Figure size 432x288 with 17 Axes>"
      ]
     },
     "metadata": {
      "needs_background": "light"
     },
     "output_type": "display_data"
    }
   ],
   "source": [
    "# 그래프를 그려서 데이터의 형태를 확인\n",
    "x = time_mean['index']\n",
    "y = time_mean['Mean']\n",
    "\n",
    "\n",
    "len_list = []\n",
    "for i in range(0,19,1):\n",
    "    len_list = np.append(len_list, 168*i)\n",
    "\n",
    "\n",
    "j = 1\n",
    "for i in len_list:\n",
    "    plt.subplot(4, 5, j)\n",
    "    plt.plot(x,y)\n",
    "    plt.ylim(0,1)\n",
    "    plt.xlim(len_list[j-1], len_list[j])\n",
    "    j = j + 1\n",
    "    if j == 18 :\n",
    "        break\n",
    "plt.show()"
   ]
  },
  {
   "cell_type": "markdown",
   "metadata": {},
   "source": [
    "# Step5 .\n",
    "### 가설(6.30일 전력 사용량 또한 비슷한 패턴을 나타낼 것이다.)"
   ]
  },
  {
   "cell_type": "code",
   "execution_count": 23,
   "metadata": {},
   "outputs": [
    {
     "name": "stdout",
     "output_type": "stream",
     "text": [
      "26 is best pattern\n"
     ]
    },
    {
     "data": {
      "text/plain": [
       "array([0.36250797, 0.30383865, 0.2787251 , 0.26772908, 0.26530677,\n",
       "       0.27740239, 0.34528884, 0.43685857, 0.38950398, 0.34417131,\n",
       "       0.31653785, 0.29358964, 0.29667396, 0.28503579, 0.29278131,\n",
       "       0.28654672, 0.30830478, 0.36243227, 0.42623506, 0.49971315,\n",
       "       0.50835458, 0.50324502, 0.47785458, 0.42949402])"
      ]
     },
     "execution_count": 23,
     "metadata": {},
     "output_type": "execute_result"
    }
   ],
   "source": [
    "# 정규분포를 이용한 결측치 보완 데이터의 패턴을 구함\n",
    "future = []\n",
    "past   = []\n",
    "value  = []\n",
    "\n",
    "\n",
    "# 특정 일을 비교\n",
    "for i in range(0, 120):\n",
    "    # 비교할 패턴\n",
    "    check_val = time_mean['Mean'][(24*i) : (24*i) + 24]\n",
    "    # 24시간 주기\n",
    "    for j in range(1,120):\n",
    "        # 열이 2880을 넘지 않도록 제한\n",
    "        if (24*i + 24*(j+1)) > 2904:\n",
    "            break\n",
    "        else:\n",
    "            future_val = time_mean['Mean'][(24*i + 24*j): (24*i + 24*(j+1))]\n",
    "            # 열이 마지막 일인 경우 제한\n",
    "            if len(future_val) == 0:\n",
    "                break\n",
    "            future_val = sum(abs(check_val - future_val))\n",
    "            future     = np.append(future, future_val)\n",
    "        \n",
    "    # 24시간 주기\n",
    "    for k in range(0,121):\n",
    "        # 열이 0 미만으로 가지 않도록 제한\n",
    "        if (24*i - 24*(k+1)) < 0 :\n",
    "            break\n",
    "        else:\n",
    "            past_val   = time_mean['Mean'][24*i - 24*(k+1) : 24*i + 24*(-k)]\n",
    "            # 열이 첫번째 일경우 제한\n",
    "            if len(past_val) == 0:\n",
    "                break\n",
    "            past_val   = sum(abs(check_val - past_val))\n",
    "            past       = np.append(past, past_val)\n",
    "    \n",
    "    # 길이가 0이면 mean함수가 작동하지 않으므로 조건을 수정\n",
    "    if len(future) == 0 :\n",
    "        mean = np.mean(past)\n",
    "        \n",
    "    elif len(past) == 0:\n",
    "        mean = np.mean(future)\n",
    "    \n",
    "    # 평균을 구함\n",
    "    else :\n",
    "        mean = (np.mean(future)+ np.mean(past))/2\n",
    "    \n",
    "    \n",
    "    \n",
    "    value = np.append(value, mean)\n",
    "    \n",
    "# 구한 평균들 중 가장 작은 값을 찾고 해당 값을 반환하여 언제의 날짜가 가장 적합한 패턴인지 찾음    \n",
    "for i in range(0,len(value)):\n",
    "    if np.nanmin(value) == value[i]:\n",
    "        pattern = time_mean['Mean'][(24*i) : (24*i) + 24]\n",
    "        print(i, 'is best pattern')    \n",
    "pattern"
   ]
  },
  {
   "cell_type": "markdown",
   "metadata": {},
   "source": [
    "# Step6 .\n",
    "### 평균을 이용한 결측치 대체 data에도 같은 작업을 반복\n",
    "#### (오래걸려 데이터를 저장)"
   ]
  },
  {
   "cell_type": "code",
   "execution_count": 24,
   "metadata": {},
   "outputs": [
    {
     "data": {
      "application/vnd.jupyter.widget-view+json": {
       "model_id": "dd31420132b947609255e3bda6248914",
       "version_major": 2,
       "version_minor": 0
      },
      "text/plain": [
       "HBox(children=(IntProgress(value=0, max=2880), HTML(value='')))"
      ]
     },
     "metadata": {},
     "output_type": "display_data"
    },
    {
     "name": "stdout",
     "output_type": "stream",
     "text": [
      "\n"
     ]
    }
   ],
   "source": [
    "data_na_mean = []\n",
    "data_na_std  = []\n",
    "data_na_time = []\n",
    "\n",
    "\n",
    "total = tqdm_notebook(range(1, len(data)))\n",
    "\n",
    "for i in total:\n",
    "    # nan제외한 특정 시간대의 전력사용량 평균\n",
    "    data_na_mean = data_na_mean + [np.nanmean(data_na.column(i))]\n",
    "    \n",
    "    # nan제외한 특정 시간대의 전력사용량 표준편차\n",
    "    data_na_std  = data_na_std + [np.nanstd(data_na.column(i))]\n",
    "    \n",
    "    # 특정 시간\n",
    "    data_na_time = np.array(list(data_na)[1:])\n",
    "    \n",
    "# array로 이용하기 위해 변환\n",
    "data_na_mean = np.array(data_na_mean)"
   ]
  },
  {
   "cell_type": "code",
   "execution_count": 26,
   "metadata": {},
   "outputs": [
    {
     "data": {
      "application/vnd.jupyter.widget-view+json": {
       "model_id": "96ef35e3619943529d52f91b4c93cb5c",
       "version_major": 2,
       "version_minor": 0
      },
      "text/plain": [
       "HBox(children=(IntProgress(value=0, max=2880), HTML(value='')))"
      ]
     },
     "metadata": {},
     "output_type": "display_data"
    }
   ],
   "source": [
    "# 정규분포와 비교하기 위해 우리나라 가구 전력 사용 평균인 1을 24시간으로 나눈 값을 대체한 data를 만든다.\n",
    "total = tqdm_notebook(range(1, len(data)))\n",
    "\n",
    "for i in total:\n",
    "    for j in range(0,len(data.column(1))) :\n",
    "        if pd.isnull(data.column(i)[j]) == True :\n",
    "            data_na.column(i)[j] = round(1/24,3)\n",
    "            \n",
    "data_na.to_csv('20141078_data4.csv')"
   ]
  },
  {
   "cell_type": "code",
   "execution_count": 30,
   "metadata": {},
   "outputs": [],
   "source": [
    "data_na     = table.read_table('20141078_data4.csv')\n",
    "\n",
    "time_mean2  = Table().with_columns('index', range(0,len(data_na_mean)),\n",
    "                                   'Time', list(data_na)[1:],\n",
    "                                   'Mean', data_na_mean)"
   ]
  },
  {
   "cell_type": "code",
   "execution_count": 31,
   "metadata": {},
   "outputs": [
    {
     "name": "stdout",
     "output_type": "stream",
     "text": [
      "26 is best pattern\n"
     ]
    },
    {
     "data": {
      "text/plain": [
       "array([0.36105479, 0.30249902, 0.27845401, 0.26594912, 0.26687671,\n",
       "       0.27801566, 0.34548924, 0.43305871, 0.38968885, 0.34609393,\n",
       "       0.31585519, 0.29389824, 0.29500391, 0.28667906, 0.2936771 ,\n",
       "       0.28620939, 0.30858904, 0.36328963, 0.42741683, 0.49764384,\n",
       "       0.50992955, 0.50305088, 0.47934051, 0.43083366])"
      ]
     },
     "execution_count": 31,
     "metadata": {},
     "output_type": "execute_result"
    }
   ],
   "source": [
    "# 평균을 이용한 결측치 보완 데이터의 패턴을 구함\n",
    "future = []\n",
    "past   = []\n",
    "value  = []\n",
    "\n",
    "\n",
    "# 특정 일을 비교\n",
    "for i in range(0, 120):\n",
    "    # 비교할 패턴\n",
    "    check_val = time_mean2['Mean'][(24*i) : (24*i) + 24]\n",
    "    # 24시간의 주기\n",
    "    for j in range(1,120):\n",
    "        if (24*i + 24*(j+1)) > 2904:\n",
    "            break\n",
    "        else:\n",
    "            future_val = time_mean2['Mean'][(24*i + 24*j): (24*i + 24*(j+1))]\n",
    "            if len(future_val) == 0:\n",
    "                break\n",
    "            future_val = sum(abs(check_val - future_val))\n",
    "            future     = np.append(future, future_val)\n",
    "        \n",
    "    \n",
    "    for k in range(0,121):\n",
    "        if (24*i - 24*(k+1)) < 0 :\n",
    "            break\n",
    "        else:\n",
    "            past_val   = time_mean2['Mean'][24*i - 24*(k+1) : 24*i + 24*(-k)]\n",
    "            if len(past_val) == 0 :\n",
    "                break\n",
    "            past_val   = sum(abs(check_val - past_val))\n",
    "            past       = np.append(past, past_val)\n",
    "    \n",
    "    if len(future) == 0 :\n",
    "        mean = np.mean(past)\n",
    "        \n",
    "    elif len(past) == 0:\n",
    "        mean = np.mean(future)\n",
    "    \n",
    "    else :\n",
    "        mean = (np.mean(future)+ np.mean(past))/2\n",
    "    \n",
    "    \n",
    "    \n",
    "    value = np.append(value, mean)\n",
    "    \n",
    "    \n",
    "for i in range(0,len(value)):\n",
    "    if np.nanmin(value) == value[i]:\n",
    "        pattern2 = time_mean2['Mean'][(24*i) : (24*i) + 24]\n",
    "        print(i, 'is best pattern')    \n",
    "pattern2"
   ]
  },
  {
   "cell_type": "markdown",
   "metadata": {},
   "source": [
    "# Step7 .\n",
    "### 구한 pattern들을 비교"
   ]
  },
  {
   "cell_type": "code",
   "execution_count": 32,
   "metadata": {},
   "outputs": [
    {
     "data": {
      "text/plain": [
       "(0.04303871991532551, 0.043080063606335255)"
      ]
     },
     "execution_count": 32,
     "metadata": {},
     "output_type": "execute_result"
    }
   ],
   "source": [
    "# 새로 구한 pattern과 target이 담긴 table 생성\n",
    "tb_pattern = Table().with_columns('Time', list(target),\n",
    "                                  'pattern', pattern,\n",
    "                                  'pattern2', pattern2,\n",
    "                                  'target', target_mean)\n",
    "\n",
    "\n",
    "# 예측을 하지 않고 단순 비교한 mse\n",
    "mse_pattern  = np.mean((tb_pattern['target'] - tb_pattern['pattern']) ** 2)\n",
    "mse_pattern2 = np.mean((tb_pattern['target'] - tb_pattern['pattern2']) **2)\n",
    "\n",
    "mse_pattern, mse_pattern2"
   ]
  },
  {
   "cell_type": "code",
   "execution_count": 33,
   "metadata": {},
   "outputs": [],
   "source": [
    "# mse를 구하는 함수 생성\n",
    "def pattern_predict_mse(a,b):\n",
    "    x      = tb_pattern['pattern']\n",
    "    y      = tb_pattern['target']\n",
    "    fitted = a*x + b\n",
    "    return np.mean((y - fitted) ** 2)\n",
    "\n",
    "def pattern2_predict_mse(a,b):\n",
    "    x      = tb_pattern['pattern2']\n",
    "    y      = tb_pattern['target']\n",
    "    fitted = a*x + b\n",
    "    return np.mean((y - fitted) ** 2)"
   ]
  },
  {
   "cell_type": "code",
   "execution_count": 34,
   "metadata": {},
   "outputs": [
    {
     "data": {
      "text/plain": [
       "0.02636897347708611"
      ]
     },
     "execution_count": 34,
     "metadata": {},
     "output_type": "execute_result"
    }
   ],
   "source": [
    "# 선형관계가 있다고 보여지기 때문에 1차 선형관계에서의 mse 최소값을 갖게하는 a와 b값을 찾음\n",
    "minimize(pattern_predict_mse)\n",
    "\n",
    "pattern_predict_mse(0.66878571, 0.21471079)"
   ]
  },
  {
   "cell_type": "code",
   "execution_count": 35,
   "metadata": {},
   "outputs": [
    {
     "data": {
      "text/plain": [
       "0.025297327167619083"
      ]
     },
     "execution_count": 35,
     "metadata": {},
     "output_type": "execute_result"
    }
   ],
   "source": [
    "# 평균을 이용한 data 결측치 보완의 mse 최소값을 찾음\n",
    "minimize(pattern2_predict_mse)\n",
    "\n",
    "pattern2_predict_mse(0.64899877, 0.25146606)"
   ]
  },
  {
   "cell_type": "code",
   "execution_count": 38,
   "metadata": {},
   "outputs": [
    {
     "data": {
      "text/html": [
       "<table border=\"1\" class=\"dataframe\">\n",
       "    <thead>\n",
       "        <tr>\n",
       "            <th>Time</th> <th>target</th> <th>predict</th> <th>predict2</th>\n",
       "        </tr>\n",
       "    </thead>\n",
       "    <tbody>\n",
       "        <tr>\n",
       "            <td>2018-06-30 0:00</td> <td>0.916615</td> <td>0.486615</td> <td>0.485791</td>\n",
       "        </tr>\n",
       "        <tr>\n",
       "            <td>2018-06-30 1:00</td> <td>0.902769</td> <td>0.448663</td> <td>0.447788</td>\n",
       "        </tr>\n",
       "        <tr>\n",
       "            <td>2018-06-30 2:00</td> <td>0.177464</td> <td>0.432417</td> <td>0.432183</td>\n",
       "        </tr>\n",
       "        <tr>\n",
       "            <td>2018-06-30 3:00</td> <td>0.289377</td> <td>0.425304</td> <td>0.424067</td>\n",
       "        </tr>\n",
       "        <tr>\n",
       "            <td>2018-06-30 4:00</td> <td>0.283916</td> <td>0.423737</td> <td>0.424669</td>\n",
       "        </tr>\n",
       "    </tbody>\n",
       "</table>\n",
       "<p>... (19 rows omitted)</p>"
      ],
      "text/plain": [
       "<IPython.core.display.HTML object>"
      ]
     },
     "metadata": {},
     "output_type": "display_data"
    }
   ],
   "source": [
    "# 만든 모든 값들을 볼 수 있는 table 생성\n",
    "tb_predict = Table().with_columns('Time', list(target),\n",
    "                                  'target', tb_pattern['target'],\n",
    "                                  'predict', (0.64689266 * tb_pattern['pattern'] + 0.25211165),\n",
    "                                  'predict2', 0.648999877 * tb_pattern['pattern2'] + 0.25146606)\n",
    "\n",
    "tb_predict.show(5)"
   ]
  },
  {
   "cell_type": "code",
   "execution_count": 39,
   "metadata": {},
   "outputs": [
    {
     "data": {
      "text/plain": [
       "True"
      ]
     },
     "execution_count": 39,
     "metadata": {},
     "output_type": "execute_result"
    }
   ],
   "source": [
    "# 실제 데이터와 예측한 값들의 하루 사용량을 확인한다.\n",
    "sum(tb_predict['target']) , sum(tb_predict['predict']), sum(tb_predict['predict2'])\n",
    "\n",
    "\n",
    "# 실제 데이터와 예측한 값들의 하루사용량 차이를 계산한다.\n",
    "difference = sum(tb_predict['target']) - (sum(tb_predict['predict']), sum(tb_predict['predict2']))\n",
    "\n",
    "\n",
    "# 둘중 어느 값의 차이가 더 큰지 확인한다.\n",
    "difference[0] > difference[1]"
   ]
  }
 ],
 "metadata": {
  "kernelspec": {
   "display_name": "Python 3",
   "language": "python",
   "name": "python3"
  },
  "language_info": {
   "codemirror_mode": {
    "name": "ipython",
    "version": 3
   },
   "file_extension": ".py",
   "mimetype": "text/x-python",
   "name": "python",
   "nbconvert_exporter": "python",
   "pygments_lexer": "ipython3",
   "version": "3.7.3"
  }
 },
 "nbformat": 4,
 "nbformat_minor": 2
}
