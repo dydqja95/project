{
 "cells": [
  {
   "cell_type": "code",
   "execution_count": 106,
   "metadata": {},
   "outputs": [],
   "source": [
    "from datascience import *\n",
    "import numpy as np\n",
    "import pandas as pd\n",
    "import codecs\n",
    "import matplotlib.pyplot as plt\n",
    "from matplotlib.colors import ListedColormap\n",
    "from sklearn.model_selection import train_test_split\n",
    "from sklearn.preprocessing import LabelEncoder\n",
    "from sklearn.metrics import f1_score\n",
    "import math\n",
    "from sklearn import preprocessing\n",
    "from sklearn.ensemble import AdaBoostClassifier\n",
    "import xgboost as xgb\n",
    "import catboost as cb\n",
    "import time"
   ]
  },
  {
   "cell_type": "code",
   "execution_count": 94,
   "metadata": {},
   "outputs": [
    {
     "name": "stderr",
     "output_type": "stream",
     "text": [
      "C:\\Users\\ybahn\\Anaconda3\\lib\\site-packages\\IPython\\core\\interactiveshell.py:3049: DtypeWarning: Columns (8,172,173,174,175,176,177,178,179) have mixed types. Specify dtype option on import or set low_memory=False.\n",
      "  interactivity=interactivity, compiler=compiler, result=result)\n"
     ]
    }
   ],
   "source": [
    "data   = pd.read_csv('PJT002_train.csv', encoding = 'UTF-8')\n",
    "val    = pd.read_csv('PJT002_validation.csv', encoding = 'UTF-8')\n",
    "test   = pd.read_csv('PJT002_test.csv', encoding = 'UTF-8')\n",
    "sub    = pd.read_csv('PJT002_submission.csv', encoding = 'UTF-8')"
   ]
  },
  {
   "cell_type": "code",
   "execution_count": 95,
   "metadata": {
    "scrolled": true
   },
   "outputs": [],
   "source": [
    "# 결측된 기온을 우리나라 평균치로 대체\n",
    "data['tmprtr']  = data['tmprtr'].fillna(12.5)\n",
    "data['prcpttn'] = data['prcpttn'].fillna(3.84)\n",
    "data['hmdt']    = data['hmdt'].fillna(70.0)\n",
    "data['wnd_spd'] = data['wnd_spd'].fillna(1.53)\n",
    "\n",
    "val['tmprtr']   = val['tmprtr'].fillna(12.5)\n",
    "val['prcpttn']  = val['prcpttn'].fillna(3.84)\n",
    "val['hmdt']     = val['hmdt'].fillna(70.0)\n",
    "val['wnd_spd']  = val['wnd_spd'].fillna(1.53)\n",
    "\n",
    "test['tmprtr']  = test['tmprtr'].fillna(12.5)\n",
    "test['prcpttn'] = test['prcpttn'].fillna(3.84)\n",
    "test['hmdt']    = test['hmdt'].fillna(70.0)\n",
    "test['wnd_spd'] = test['wnd_spd'].fillna(1.53)"
   ]
  },
  {
   "cell_type": "code",
   "execution_count": 97,
   "metadata": {},
   "outputs": [],
   "source": [
    "col_1                 = ['bldng_us', 'bldng_archtctr', 'bldng_ar', 'bldng_us_clssfctn', 'tmprtr', 'prcpttn',\n",
    "                         'wnd_spd', 'wnd_drctn', 'hmdt', 'fr_wthr_fclt_dstnc', 'mlt_us_yn', 'fr_wthr_fclt_in_100m',\n",
    "                         'no_tbc_zn_dstnc','trgt_crtr', 'fr_fghtng_fclt_spcl_css_5_yn', 'fr_fghtng_fclt_spcl_css_6_yn', \n",
    "                         'us_yn', 'dngrs_thng_yn', 'slf_fr_brgd_yn', 'blk_dngrs_thng_mnfctr_yn']\n",
    "\n",
    "data_x                = data[col_1]\n",
    "val_x                 = val[col_1]\n",
    "test_x                = test[col_1]\n",
    "\n",
    "\n",
    "col_2                 = ['lw_13101010', 'lw_13101110','lw_13101210', 'lw_13101211','lw_13101310',\n",
    "                         'lw_13101410','lw_13111010','lw_13111110',\n",
    "                         'lw_13121010','lw_13121011','lw_13131010','lw_13131110','lw_13141010','lw_13141011']\n",
    "\n",
    "data_x                = pd.concat([data_x, data[col_2]], axis = 1)\n",
    "data_x['lw_13101010'] = 3\n",
    "data_x['lw_13101110'] = 3\n",
    "\n",
    "val_x                 = pd.concat([val_x, val[col_2]], axis = 1)\n",
    "val_x['lw_13101010']  = 3\n",
    "val_x['lw_13101110']  = 3\n",
    "\n",
    "test_x                = pd.concat([test_x, test[col_2]], axis = 1)\n",
    "test_x['lw_13101010'] = 3\n",
    "test_x['lw_13101110'] = 3\n",
    "\n",
    "\n",
    "\n",
    "\n",
    "\n",
    "\n",
    "\n",
    "data_x[col_2]         = round(data_x[col_2])\n",
    "val_x[col_2]          = round(val_x[col_2])\n",
    "test_x[col_2]         = round(test_x[col_2])\n",
    "\n",
    "data_x                = data_x.fillna(0)\n",
    "val_x                 = val_x.fillna(0)\n",
    "test_x                = test_x.fillna(0)\n",
    "\n",
    "\n",
    "\n",
    "data_y                = pd.DataFrame(data['fr_yn'].map({'N':0, 'Y':1}))\n",
    "val_y                 = pd.DataFrame(val['fr_yn'].map({'N':0, 'Y':1}))"
   ]
  },
  {
   "cell_type": "code",
   "execution_count": 98,
   "metadata": {},
   "outputs": [
    {
     "name": "stderr",
     "output_type": "stream",
     "text": [
      "C:\\Users\\ybahn\\Anaconda3\\lib\\site-packages\\ipykernel_launcher.py:3: SettingWithCopyWarning: \n",
      "A value is trying to be set on a copy of a slice from a DataFrame\n",
      "\n",
      "See the caveats in the documentation: http://pandas.pydata.org/pandas-docs/stable/indexing.html#indexing-view-versus-copy\n",
      "  This is separate from the ipykernel package so we can avoid doing imports until\n"
     ]
    }
   ],
   "source": [
    "year = []\n",
    "\n",
    "data['dt_of_athrztn'][32635] = 2002\n",
    "\n",
    "for i in range(0 , len(data)):\n",
    "    if math.isnan(float(data['dt_of_athrztn'][i])):\n",
    "        year = year + ['1990']\n",
    "    elif int(str(data['dt_of_athrztn'][i])[:4]) > 1930 and int(str(data['dt_of_athrztn'][i])[:4]) < 1940 :\n",
    "        year = year + ['1930']\n",
    "    elif int(str(data['dt_of_athrztn'][i])[:4]) > 1940 and int(str(data['dt_of_athrztn'][i])[:4]) < 1950 :\n",
    "        year = year + ['1940']\n",
    "    elif int(str(data['dt_of_athrztn'][i])[:4]) > 1950 and int(str(data['dt_of_athrztn'][i])[:4]) < 1960 :\n",
    "        year = year + ['1950']\n",
    "    elif int(str(data['dt_of_athrztn'][i])[:4]) > 1960 and int(str(data['dt_of_athrztn'][i])[:4]) < 1970 :\n",
    "        year = year + ['1960']\n",
    "    elif int(str(data['dt_of_athrztn'][i])[:4]) > 1970 and int(str(data['dt_of_athrztn'][i])[:4]) < 1980 :\n",
    "        year = year + ['1970']\n",
    "    elif int(str(data['dt_of_athrztn'][i])[:4]) > 1980 and int(str(data['dt_of_athrztn'][i])[:4]) < 1990 :\n",
    "        year = year + ['1980']\n",
    "    elif int(str(data['dt_of_athrztn'][i])[:4]) > 1990 and int(str(data['dt_of_athrztn'][i])[:4]) < 2000 :\n",
    "        year = year + ['1990']\n",
    "    elif int(str(data['dt_of_athrztn'][i])[:4]) > 2000 and int(str(data['dt_of_athrztn'][i])[:4]) < 2010 :\n",
    "        year = year + ['2000']\n",
    "    elif int(str(data['dt_of_athrztn'][i])[:4]) > 2010 and int(str(data['dt_of_athrztn'][i])[:4]) < 2020 :\n",
    "        year = year + ['2010']\n",
    "    else :\n",
    "        year = year + ['1990']\n",
    "data_x['year'] = year\n",
    "\n",
    "        \n",
    "        \n",
    "year = []\n",
    "\n",
    "for i in range(0 , len(val)):\n",
    "    if math.isnan(float(val['dt_of_athrztn'][i])):\n",
    "        year = year + ['1990']\n",
    "    elif int(str(val['dt_of_athrztn'][i])[:4]) > 1930 and int(str(val['dt_of_athrztn'][i])[:4]) < 1940 :\n",
    "        year = year + ['1930']\n",
    "    elif int(str(val['dt_of_athrztn'][i])[:4]) > 1940 and int(str(val['dt_of_athrztn'][i])[:4]) < 1950 :\n",
    "        year = year + ['1940']\n",
    "    elif int(str(val['dt_of_athrztn'][i])[:4]) > 1950 and int(str(val['dt_of_athrztn'][i])[:4]) < 1960 :\n",
    "        year = year + ['1950']\n",
    "    elif int(str(val['dt_of_athrztn'][i])[:4]) > 1960 and int(str(val['dt_of_athrztn'][i])[:4]) < 1970 :\n",
    "        year = year + ['1960']\n",
    "    elif int(str(val['dt_of_athrztn'][i])[:4]) > 1970 and int(str(val['dt_of_athrztn'][i])[:4]) < 1980 :\n",
    "        year = year + ['1970']\n",
    "    elif int(str(val['dt_of_athrztn'][i])[:4]) > 1980 and int(str(val['dt_of_athrztn'][i])[:4]) < 1990 :\n",
    "        year = year + ['1980']\n",
    "    elif int(str(val['dt_of_athrztn'][i])[:4]) > 1990 and int(str(val['dt_of_athrztn'][i])[:4]) < 2000 :\n",
    "        year = year + ['1990']\n",
    "    elif int(str(val['dt_of_athrztn'][i])[:4]) > 2000 and int(str(val['dt_of_athrztn'][i])[:4]) < 2010 :\n",
    "        year = year + ['2000']\n",
    "    elif int(str(val['dt_of_athrztn'][i])[:4]) > 2010 and int(str(val['dt_of_athrztn'][i])[:4]) < 2020 :\n",
    "        year = year + ['2010']\n",
    "    else :\n",
    "        year = year + ['1990']\n",
    "val_x['year']  = year     \n",
    "        \n",
    "        \n",
    "year = []\n",
    "\n",
    "for i in range(0 , len(test)):\n",
    "    if math.isnan(float(test['dt_of_athrztn'][i])):\n",
    "        year = year + ['1990']\n",
    "    elif int(str(test['dt_of_athrztn'][i])[:4]) > 1930 and int(str(test['dt_of_athrztn'][i])[:4]) < 1940 :\n",
    "        year = year + ['1930']\n",
    "    elif int(str(test['dt_of_athrztn'][i])[:4]) > 1940 and int(str(test['dt_of_athrztn'][i])[:4]) < 1950 :\n",
    "        year = year + ['1940']\n",
    "    elif int(str(test['dt_of_athrztn'][i])[:4]) > 1950 and int(str(test['dt_of_athrztn'][i])[:4]) < 1960 :\n",
    "        year = year + ['1950']\n",
    "    elif int(str(test['dt_of_athrztn'][i])[:4]) > 1960 and int(str(test['dt_of_athrztn'][i])[:4]) < 1970 :\n",
    "        year = year + ['1960']\n",
    "    elif int(str(test['dt_of_athrztn'][i])[:4]) > 1970 and int(str(test['dt_of_athrztn'][i])[:4]) < 1980 :\n",
    "        year = year + ['1970']\n",
    "    elif int(str(test['dt_of_athrztn'][i])[:4]) > 1980 and int(str(test['dt_of_athrztn'][i])[:4]) < 1990 :\n",
    "        year = year + ['1980']\n",
    "    elif int(str(test['dt_of_athrztn'][i])[:4]) > 1990 and int(str(test['dt_of_athrztn'][i])[:4]) < 2000 :\n",
    "        year = year + ['1990']\n",
    "    elif int(str(test['dt_of_athrztn'][i])[:4]) > 2000 and int(str(test['dt_of_athrztn'][i])[:4]) < 2010 :\n",
    "        year = year + ['2000']\n",
    "    elif int(str(test['dt_of_athrztn'][i])[:4]) > 2010 and int(str(test['dt_of_athrztn'][i])[:4]) < 2020 :\n",
    "        year = year + ['2010']\n",
    "    else :\n",
    "        year = year + ['1990']\n",
    "        \n",
    "\n",
    "\n",
    "\n",
    "\n",
    "test_x['year']   = year"
   ]
  },
  {
   "cell_type": "code",
   "execution_count": 99,
   "metadata": {},
   "outputs": [],
   "source": [
    "dummi = ['trgt_crtr','bldng_archtctr', 'bldng_us','bldng_us_clssfctn', 'blk_dngrs_thng_mnfctr_yn', 'dngrs_thng_yn',\n",
    "         'fr_fghtng_fclt_spcl_css_5_yn', 'fr_fghtng_fclt_spcl_css_6_yn', 'fr_wthr_fclt_in_100m',\n",
    "         'mlt_us_yn', 'slf_fr_brgd_yn', 'us_yn', 'year']\n",
    "\n",
    "data_x = pd.get_dummies(data = data_x, columns = dummi)\n",
    "val_x  = pd.get_dummies(data = val_x, columns = dummi)\n",
    "test_x = pd.get_dummies(data = test_x, columns = dummi)\n"
   ]
  },
  {
   "cell_type": "code",
   "execution_count": 100,
   "metadata": {},
   "outputs": [],
   "source": [
    "# 없는 column 찾고 0 대입\n",
    "\n",
    "yes = []\n",
    "no  = []\n",
    "\n",
    "for i in range(0,len(data_x.columns)):\n",
    "    if data_x.columns[i] in list(val_x.columns):\n",
    "        yes = yes + [data_x.columns[i]]\n",
    "    else :\n",
    "        no  = no + [data_x.columns[i]]\n",
    "\n",
    "yes = []\n",
    "no  = []        \n",
    "\n",
    "for i in range(0,len(data_x.columns)):    \n",
    "    if data_x.columns[i] in list(test_x.columns):\n",
    "        yes = yes + [data_x.columns[i]]\n",
    "    else:\n",
    "        no  = no + [data_x.columns[i]]\n",
    "\n",
    "        \n",
    "for i in range(0, len(no)):\n",
    "    if len(no) == 0 :\n",
    "        break\n",
    "    else :\n",
    "        val_x[str(no[i])]  = 0\n",
    "        test_x[str(no[i])] = 0\n",
    "        \n",
    "val_x  = val_x[list(data_x.columns)]\n",
    "test_x = test_x[list(data_x.columns)]\n"
   ]
  },
  {
   "cell_type": "markdown",
   "metadata": {},
   "source": [
    "# 모델 학습"
   ]
  },
  {
   "cell_type": "code",
   "execution_count": 101,
   "metadata": {},
   "outputs": [],
   "source": [
    "# test set & train set 분할\n",
    "X = data_x\n",
    "y = data['fr_yn'].map({'N' : 0, 'Y' : 1})"
   ]
  },
  {
   "cell_type": "markdown",
   "metadata": {},
   "source": [
    "# CatBoost"
   ]
  },
  {
   "cell_type": "code",
   "execution_count": 103,
   "metadata": {
    "scrolled": true
   },
   "outputs": [
    {
     "name": "stdout",
     "output_type": "stream",
     "text": [
      "0:\tlearn: 0.8847954\ttotal: 74.5ms\tremaining: 7.37s\n",
      "1:\tlearn: 0.8881569\ttotal: 74.5ms\tremaining: 7.37s\n",
      "2:\tlearn: 0.8896434\ttotal: 4.86s\tremaining: 3m 55s\n",
      "3:\tlearn: 0.8902008\ttotal: 6.1s\tremaining: 3m 15s\n",
      "4:\tlearn: 0.8916705\ttotal: 16.8s\tremaining: 6m 39s\n",
      "5:\tlearn: 0.8919407\ttotal: 26.5s\tremaining: 8m 18s\n",
      "6:\tlearn: 0.8927516\ttotal: 35.2s\tremaining: 9m 5s\n",
      "7:\tlearn: 0.8934779\ttotal: 44.5s\tremaining: 9m 45s\n",
      "8:\tlearn: 0.8941198\ttotal: 1m 7s\tremaining: 12m 49s\n",
      "9:\tlearn: 0.8939002\ttotal: 1m 7s\tremaining: 11m 17s\n",
      "10:\tlearn: 0.8942381\ttotal: 1m 17s\tremaining: 11m 28s\n",
      "11:\tlearn: 0.8940860\ttotal: 1m 18s\tremaining: 10m 27s\n",
      "12:\tlearn: 0.8942381\ttotal: 1m 27s\tremaining: 10m 36s\n",
      "13:\tlearn: 0.8944239\ttotal: 1m 38s\tremaining: 10m 48s\n",
      "14:\tlearn: 0.8940692\ttotal: 1m 47s\tremaining: 10m 54s\n",
      "15:\tlearn: 0.8943563\ttotal: 1m 57s\tremaining: 10m 57s\n",
      "16:\tlearn: 0.8944070\ttotal: 2m 6s\tremaining: 10m 57s\n",
      "17:\tlearn: 0.8947111\ttotal: 2m 15s\tremaining: 10m 54s\n",
      "18:\tlearn: 0.8941029\ttotal: 2m 15s\tremaining: 10m 11s\n",
      "19:\tlearn: 0.8942043\ttotal: 2m 24s\tremaining: 10m 9s\n",
      "20:\tlearn: 0.8941874\ttotal: 2m 33s\tremaining: 10m 4s\n",
      "21:\tlearn: 0.8939509\ttotal: 2m 41s\tremaining: 10m 1s\n",
      "22:\tlearn: 0.8940016\ttotal: 2m 51s\tremaining: 9m 59s\n",
      "23:\tlearn: 0.8941367\ttotal: 3m 1s\tremaining: 9m 58s\n",
      "24:\tlearn: 0.8940185\ttotal: 3m 10s\tremaining: 9m 54s\n",
      "25:\tlearn: 0.8944239\ttotal: 3m 19s\tremaining: 9m 50s\n",
      "26:\tlearn: 0.8946266\ttotal: 3m 28s\tremaining: 9m 44s\n",
      "27:\tlearn: 0.8946773\ttotal: 3m 37s\tremaining: 9m 38s\n",
      "28:\tlearn: 0.8943563\ttotal: 3m 47s\tremaining: 9m 36s\n",
      "29:\tlearn: 0.8943901\ttotal: 3m 58s\tremaining: 9m 35s\n",
      "30:\tlearn: 0.8945759\ttotal: 4m 9s\tremaining: 9m 33s\n",
      "31:\tlearn: 0.8947448\ttotal: 4m 20s\tremaining: 9m 31s\n",
      "32:\tlearn: 0.8950489\ttotal: 4m 31s\tremaining: 9m 27s\n",
      "33:\tlearn: 0.8949307\ttotal: 4m 42s\tremaining: 9m 25s\n",
      "34:\tlearn: 0.8950658\ttotal: 4m 53s\tremaining: 9m 21s\n",
      "35:\tlearn: 0.8951165\ttotal: 5m 3s\tremaining: 9m 15s\n",
      "36:\tlearn: 0.8951165\ttotal: 5m 14s\tremaining: 9m 11s\n",
      "37:\tlearn: 0.8951503\ttotal: 5m 24s\tremaining: 9m 4s\n",
      "38:\tlearn: 0.8951334\ttotal: 5m 34s\tremaining: 8m 57s\n",
      "39:\tlearn: 0.8953699\ttotal: 5m 45s\tremaining: 8m 51s\n",
      "40:\tlearn: 0.8954712\ttotal: 5m 55s\tremaining: 8m 44s\n",
      "41:\tlearn: 0.8952516\ttotal: 6m 5s\tremaining: 8m 37s\n",
      "42:\tlearn: 0.8952009\ttotal: 6m 16s\tremaining: 8m 31s\n",
      "43:\tlearn: 0.8952347\ttotal: 6m 27s\tremaining: 8m 24s\n",
      "44:\tlearn: 0.8953361\ttotal: 6m 38s\tremaining: 8m 17s\n",
      "45:\tlearn: 0.8956232\ttotal: 6m 48s\tremaining: 8m 10s\n",
      "46:\tlearn: 0.8957584\ttotal: 6m 59s\tremaining: 8m 2s\n",
      "47:\tlearn: 0.8959273\ttotal: 7m 9s\tremaining: 7m 55s\n",
      "48:\tlearn: 0.8959104\ttotal: 7m 18s\tremaining: 7m 46s\n",
      "49:\tlearn: 0.8959442\ttotal: 7m 29s\tremaining: 7m 38s\n",
      "50:\tlearn: 0.8960286\ttotal: 7m 39s\tremaining: 7m 29s\n",
      "51:\tlearn: 0.8963665\ttotal: 7m 48s\tremaining: 7m 21s\n",
      "52:\tlearn: 0.8962989\ttotal: 7m 59s\tremaining: 7m 12s\n",
      "53:\tlearn: 0.8963834\ttotal: 8m 9s\tremaining: 7m 4s\n",
      "54:\tlearn: 0.8963665\ttotal: 8m 20s\tremaining: 6m 56s\n",
      "55:\tlearn: 0.8964847\ttotal: 8m 30s\tremaining: 6m 48s\n",
      "56:\tlearn: 0.8964172\ttotal: 8m 40s\tremaining: 6m 39s\n",
      "57:\tlearn: 0.8964003\ttotal: 8m 51s\tremaining: 6m 31s\n",
      "58:\tlearn: 0.8963665\ttotal: 9m 1s\tremaining: 6m 22s\n",
      "59:\tlearn: 0.8965692\ttotal: 9m 11s\tremaining: 6m 14s\n",
      "60:\tlearn: 0.8969070\ttotal: 9m 21s\tremaining: 6m 5s\n",
      "61:\tlearn: 0.8971604\ttotal: 9m 31s\tremaining: 5m 56s\n",
      "62:\tlearn: 0.8973462\ttotal: 9m 42s\tremaining: 5m 47s\n",
      "63:\tlearn: 0.8974645\ttotal: 9m 52s\tremaining: 5m 38s\n",
      "64:\tlearn: 0.8974814\ttotal: 10m 2s\tremaining: 5m 29s\n",
      "65:\tlearn: 0.8976165\ttotal: 10m 12s\tremaining: 5m 20s\n",
      "66:\tlearn: 0.8975827\ttotal: 10m 12s\tremaining: 5m 6s\n",
      "67:\tlearn: 0.8974476\ttotal: 10m 14s\tremaining: 4m 53s\n",
      "68:\tlearn: 0.8976503\ttotal: 10m 25s\tremaining: 4m 45s\n",
      "69:\tlearn: 0.8978361\ttotal: 10m 35s\tremaining: 4m 36s\n",
      "70:\tlearn: 0.8978699\ttotal: 10m 45s\tremaining: 4m 27s\n",
      "71:\tlearn: 0.8978868\ttotal: 10m 57s\tremaining: 4m 19s\n",
      "72:\tlearn: 0.8979206\ttotal: 11m 8s\tremaining: 4m 10s\n",
      "73:\tlearn: 0.8978530\ttotal: 11m 18s\tremaining: 4m 1s\n",
      "74:\tlearn: 0.8979375\ttotal: 11m 28s\tremaining: 3m 52s\n",
      "75:\tlearn: 0.8978699\ttotal: 11m 38s\tremaining: 3m 43s\n",
      "76:\tlearn: 0.8981064\ttotal: 11m 49s\tremaining: 3m 34s\n",
      "77:\tlearn: 0.8981908\ttotal: 12m\tremaining: 3m 25s\n",
      "78:\tlearn: 0.8983429\ttotal: 12m 9s\tremaining: 3m 16s\n",
      "79:\tlearn: 0.8982415\ttotal: 12m 10s\tremaining: 3m 4s\n",
      "80:\tlearn: 0.8982922\ttotal: 12m 20s\tremaining: 2m 55s\n",
      "81:\tlearn: 0.8982415\ttotal: 12m 31s\tremaining: 2m 46s\n",
      "82:\tlearn: 0.8984611\ttotal: 12m 41s\tremaining: 2m 37s\n",
      "83:\tlearn: 0.8984949\ttotal: 12m 51s\tremaining: 2m 28s\n",
      "84:\tlearn: 0.8985118\ttotal: 13m 1s\tremaining: 2m 19s\n",
      "85:\tlearn: 0.8984949\ttotal: 13m 2s\tremaining: 2m 8s\n",
      "86:\tlearn: 0.8984611\ttotal: 13m 12s\tremaining: 1m 59s\n",
      "87:\tlearn: 0.8983429\ttotal: 13m 23s\tremaining: 1m 50s\n",
      "88:\tlearn: 0.8985118\ttotal: 13m 34s\tremaining: 1m 41s\n",
      "89:\tlearn: 0.8986469\ttotal: 13m 44s\tremaining: 1m 32s\n",
      "90:\tlearn: 0.8987314\ttotal: 13m 55s\tremaining: 1m 23s\n",
      "91:\tlearn: 0.8987483\ttotal: 14m 5s\tremaining: 1m 14s\n",
      "92:\tlearn: 0.8988328\ttotal: 14m 16s\tremaining: 1m 5s\n",
      "93:\tlearn: 0.8986638\ttotal: 14m 16s\tremaining: 55.2s\n",
      "94:\tlearn: 0.8987314\ttotal: 14m 27s\tremaining: 46.1s\n",
      "95:\tlearn: 0.8988665\ttotal: 14m 37s\tremaining: 36.9s\n",
      "96:\tlearn: 0.8990017\ttotal: 14m 47s\tremaining: 27.7s\n",
      "97:\tlearn: 0.8991706\ttotal: 14m 57s\tremaining: 18.5s\n",
      "98:\tlearn: 0.8992213\ttotal: 15m 7s\tremaining: 9.26s\n",
      "99:\tlearn: 0.8992551\ttotal: 15m 18s\tremaining: 0us\n"
     ]
    },
    {
     "data": {
      "text/plain": [
       "0.4947253546744271"
      ]
     },
     "execution_count": 103,
     "metadata": {},
     "output_type": "execute_result"
    }
   ],
   "source": [
    "start            = time.time() # 시작 시간 지정\n",
    "cb_dtrain        = cb.Pool(data = X, label = y) # 학습 데이터를 Catboost 모델에 맞게 변환\n",
    "cb_param         = {'max_depth'     : 16, # 트리 깊이\n",
    "                    'learning_rate' : 0.01, # Step Size\n",
    "                    'n_estimators'  : 100, # Number of trees, 트리 생성 개수\n",
    "                    'eval_metric'   : 'Accuracy', # 평가 척도\n",
    "                    'loss_function' : 'MultiClass'} # 손실 함수, 목적 함수\n",
    "cb_model         = cb.train(pool = cb_dtrain, params = cb_param) # 학습 진행\n",
    "cb_model_predict = np.argmax(cb_model.predict(val_x), axis = 1) # 평가 데이터 예측, Softmax의 결과값 중 가장 큰 값의 Label로 예측, 인덱스의 순서를 맞추기 위해 +1\n",
    "\n",
    "cb_predict = pd.DataFrame()\n",
    "cb_predict['fr_yn'] = np.array(cb_model_predict)\n",
    "\n",
    "f1_score(val_y, cb_predict)"
   ]
  },
  {
   "cell_type": "code",
   "execution_count": 54,
   "metadata": {},
   "outputs": [
    {
     "data": {
      "text/plain": [
       "array([0.81156227, 0.18843773])"
      ]
     },
     "execution_count": 54,
     "metadata": {},
     "output_type": "execute_result"
    }
   ],
   "source": [
    "#cb_model_predict = np.argmax(cb_model.predict(val_x, prediction_type = 'Probability'), axis = 1)\n",
    "\n",
    "cb_model_predict = cb_model.predict(test_x, prediction_type = 'Probability')\n",
    "\n",
    "cb_model_predict[0]"
   ]
  },
  {
   "cell_type": "code",
   "execution_count": 83,
   "metadata": {},
   "outputs": [],
   "source": [
    "cb_model_predict = np.argmax(cb_model.predict(test_x), axis = 1)\n",
    "\n",
    "temp          = pd.DataFrame()\n",
    "temp['fr_yn'] = cb_model_predict\n",
    "\n",
    "sub['fr_yn'] = temp['fr_yn'].map({0 : 'N', 1 : 'Y'})\n",
    "sub.to_csv('dydqja95_화재예측과제_Submission.csv', encoding = 'UTF-8', index = False)"
   ]
  },
  {
   "cell_type": "markdown",
   "metadata": {},
   "source": [
    "# Adaboost"
   ]
  },
  {
   "cell_type": "code",
   "execution_count": 102,
   "metadata": {},
   "outputs": [
    {
     "name": "stdout",
     "output_type": "stream",
     "text": [
      "f1: 48.37 %\n"
     ]
    }
   ],
   "source": [
    "ada_clf  = AdaBoostClassifier(n_estimators = 100, random_state = 0)\n",
    "ada_clf.fit(X, y) \n",
    "ada_model_predict = ada_clf.predict(val_x)\n",
    "print((\"f1: %.2f\" % (f1_score(val_y, ada_model_predict) * 100)), '%')"
   ]
  },
  {
   "cell_type": "code",
   "execution_count": 85,
   "metadata": {},
   "outputs": [],
   "source": [
    "ada_model_predict = ada_clf.predict(test_x)\n",
    "\n",
    "t = pd.DataFrame()\n",
    "t['fr_yn'] = ada_model_predict\n",
    "\n",
    "sub['fr_yn'] = t['fr_yn'].map({0 : 'N', 1 : 'Y'})\n",
    "sub.to_csv('dydqja95_화재예측과제_Submission.csv', encoding = 'UTF-8', index = False)"
   ]
  },
  {
   "cell_type": "markdown",
   "metadata": {},
   "source": [
    "# 모델 확인"
   ]
  },
  {
   "cell_type": "code",
   "execution_count": 88,
   "metadata": {},
   "outputs": [],
   "source": [
    "cb_model_proba  = cb_model.predict(test_x, prediction_type = 'Probability')\n",
    "\n",
    "ada_model_proba = ada_clf.predict_proba(test_x)"
   ]
  },
  {
   "cell_type": "code",
   "execution_count": 91,
   "metadata": {},
   "outputs": [
    {
     "data": {
      "text/plain": [
       "array(['N', 'Y', 'N', ..., 'N', 'N', 'Y'], dtype='<U32')"
      ]
     },
     "execution_count": 91,
     "metadata": {},
     "output_type": "execute_result"
    }
   ],
   "source": [
    "last       = ((cb_model_proba*0.7) + (ada_model_proba*1.3))/2\n",
    "\n",
    "last_model = []\n",
    "\n",
    "for i in range(0, len(cb_model_predict)):\n",
    "    if last[i][0] > last[i][1]:\n",
    "        last_model = np.append(last_model, 'N')\n",
    "    \n",
    "    else:\n",
    "        last_model = np.append(last_model, 'Y')\n",
    "\n",
    "last_model"
   ]
  },
  {
   "cell_type": "code",
   "execution_count": 92,
   "metadata": {},
   "outputs": [],
   "source": [
    "sub['fr_yn'] = last_model\n",
    "sub.to_csv('dydqja95_화재예측과제_Submission.csv', encoding = 'UTF-8', index = False)"
   ]
  },
  {
   "cell_type": "code",
   "execution_count": null,
   "metadata": {},
   "outputs": [],
   "source": []
  }
 ],
 "metadata": {
  "kernelspec": {
   "display_name": "Python 3",
   "language": "python",
   "name": "python3"
  },
  "language_info": {
   "codemirror_mode": {
    "name": "ipython",
    "version": 3
   },
   "file_extension": ".py",
   "mimetype": "text/x-python",
   "name": "python",
   "nbconvert_exporter": "python",
   "pygments_lexer": "ipython3",
   "version": "3.7.3"
  }
 },
 "nbformat": 4,
 "nbformat_minor": 2
}
